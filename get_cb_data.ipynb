{
 "cells": [
  {
   "cell_type": "code",
   "execution_count": 12,
   "source": [
    "import pandas as pd\n",
    "import cbpro\n",
    "from datetime import datetime, timedelta\n",
    "\n",
    "# Make using PublicClient Methods easier\n",
    "public_client = cbpro.PublicClient()"
   ],
   "outputs": [],
   "metadata": {}
  },
  {
   "cell_type": "code",
   "execution_count": 13,
   "source": [
    "# Get list of crypto currencies available on CoinbasePro\n",
    "# Store ids in a list\n",
    "currencies = public_client.get_currencies()\n",
    "\n",
    "currency_ids = []\n",
    "\n",
    "for currency in currencies:\n",
    "    currency_ids.append(currency['id'])\n",
    "\n",
    "print(f\"Number of currencies: {len(currency_ids)}\")\n",
    "currency_ids[:10]"
   ],
   "outputs": [
    {
     "output_type": "stream",
     "name": "stdout",
     "text": [
      "Number of currencies: 97\n"
     ]
    },
    {
     "output_type": "execute_result",
     "data": {
      "text/plain": [
       "['ALGO', 'DASH', 'OXT', 'ATOM', 'KNC', 'MIR', 'REP', 'ICP', 'CGLD', 'COMP']"
      ]
     },
     "metadata": {},
     "execution_count": 13
    }
   ],
   "metadata": {}
  },
  {
   "cell_type": "markdown",
   "source": [
    "The CoinbasePro API only allows for 300 candles maximum per call to get_product_historic_rates().\n",
    "Therefore, we will need to perform multiple calls to get data from all days where the crypto \n",
    "was available to trade. After some searching, GDAX (former name for Coinbase Pro) was launched in 2015\n",
    "and Ethereum was launched in 2015 as well. So we will start at 1/1/2015 and work up to today's date \n"
   ],
   "metadata": {}
  },
  {
   "cell_type": "code",
   "execution_count": 14,
   "source": [
    "# Create function that allows for parameterization during the API call\n",
    "def get_end_date(start_date,days):\n",
    "    \"\"\" Given a start date in datetime format, \n",
    "        calculate the end date in datetime format\n",
    "        based on the number of days provided.\"\"\"\n",
    "    \n",
    "    end_date = start_date + timedelta(days=days)\n",
    "    return end_date"
   ],
   "outputs": [],
   "metadata": {}
  },
  {
   "cell_type": "code",
   "execution_count": 15,
   "source": [
    "# The CoinbasePro API only allows for 300 candles maximum per call to get_product_historic_rates()\n",
    "# Therefore, will need to perform multiple calls to get data from all days where the crypto \n",
    "# was available to trade. After some searching, GDAX (former name for Coinbase Pro) was launched in 2015\n",
    "# and Ethereum was launched in 2015 as well. So we will start at 1/1/2015 and work up to today's date \n",
    "\n",
    "# Containers\n",
    "historical_data = {}\n",
    "symbol = []\n",
    "time = []\n",
    "low = []\n",
    "high = []\n",
    "opn = []\n",
    "close = []\n",
    "volume = []\n",
    "\n",
    "# Parameters\n",
    "start = '2015-01-01'\n",
    "time_delta = 300\n",
    "granularity = 86400 #Daily candles\n",
    "today = datetime.now()\n",
    "\n",
    "# Pull the data and save to DataFrame\n",
    "for c in currency_ids:\n",
    "    \n",
    "    start_date = datetime.strptime(start,'%Y-%m-%d')\n",
    "    \n",
    "    while start_date <= today:\n",
    "        \n",
    "        end_date = get_end_date(start_date,time_delta)\n",
    "        \n",
    "        # Adjust for end_date being in the future\n",
    "        if end_date > today:\n",
    "            end_date = today\n",
    "\n",
    "        historic_rates = public_client.get_product_historic_rates(\n",
    "            f\"{c}-USD\", \n",
    "            start=datetime.strftime(start_date,'%Y-%m-%d'), \n",
    "            end=datetime.strftime(end_date,'%Y-%m-%d'), \n",
    "            granularity=granularity\n",
    "        )\n",
    "\n",
    "        # Handle case where there is no data available\n",
    "        # Return from API will be in dict format if no data is availble\n",
    "        if type(historic_rates) is not dict: \n",
    "            try:\n",
    "                for day in historic_rates:\n",
    "                    symbol.append(c)\n",
    "                    time.append((datetime.fromtimestamp(day[0]) + timedelta(days=1)))\n",
    "                    low.append(day[1])\n",
    "                    high.append(day[2])\n",
    "                    opn.append(day[3])\n",
    "                    close.append(day[4])\n",
    "                    volume.append(day[5])\n",
    "            except Exception as e:\n",
    "                print('c')\n",
    "                print(day[0])\n",
    "                print(e)\n",
    "\n",
    "        # Calculate new start date to use\n",
    "        start_date = end_date + timedelta(days=1)\n",
    "\n",
    "# Create DataFrame\n",
    "data = {\n",
    "    'symbol':symbol,\n",
    "    'date':time,\n",
    "    'high':high,\n",
    "    'low':low,\n",
    "    'open':opn,\n",
    "    'close':close,\n",
    "    'volume':volume\n",
    "}\n",
    "df = pd.DataFrame(data)"
   ],
   "outputs": [],
   "metadata": {}
  },
  {
   "cell_type": "code",
   "execution_count": null,
   "source": [
    "df[df['Symbol'] == 'ETH'].sort_values('Date').head()"
   ],
   "outputs": [
    {
     "output_type": "execute_result",
     "data": {
      "text/plain": [
       "      Symbol                Date   High    Low   Open  Close       Volume\n",
       "15316    ETH 2016-05-18 19:00:00  14.93  12.50  12.50  13.18   482.521827\n",
       "15315    ETH 2016-05-19 19:00:00  14.90  13.00  13.18  14.90   950.441205\n",
       "15314    ETH 2016-05-20 19:00:00  14.82  13.71  14.82  14.17   254.166617\n",
       "15313    ETH 2016-05-23 19:00:00  13.91  13.61  13.86  13.61   180.786712\n",
       "15312    ETH 2016-05-24 19:00:00  13.74  12.00  13.68  12.77  2753.239298"
      ],
      "text/html": [
       "<div>\n",
       "<style scoped>\n",
       "    .dataframe tbody tr th:only-of-type {\n",
       "        vertical-align: middle;\n",
       "    }\n",
       "\n",
       "    .dataframe tbody tr th {\n",
       "        vertical-align: top;\n",
       "    }\n",
       "\n",
       "    .dataframe thead th {\n",
       "        text-align: right;\n",
       "    }\n",
       "</style>\n",
       "<table border=\"1\" class=\"dataframe\">\n",
       "  <thead>\n",
       "    <tr style=\"text-align: right;\">\n",
       "      <th></th>\n",
       "      <th>Symbol</th>\n",
       "      <th>Date</th>\n",
       "      <th>High</th>\n",
       "      <th>Low</th>\n",
       "      <th>Open</th>\n",
       "      <th>Close</th>\n",
       "      <th>Volume</th>\n",
       "    </tr>\n",
       "  </thead>\n",
       "  <tbody>\n",
       "    <tr>\n",
       "      <th>15316</th>\n",
       "      <td>ETH</td>\n",
       "      <td>2016-05-18 19:00:00</td>\n",
       "      <td>14.93</td>\n",
       "      <td>12.50</td>\n",
       "      <td>12.50</td>\n",
       "      <td>13.18</td>\n",
       "      <td>482.521827</td>\n",
       "    </tr>\n",
       "    <tr>\n",
       "      <th>15315</th>\n",
       "      <td>ETH</td>\n",
       "      <td>2016-05-19 19:00:00</td>\n",
       "      <td>14.90</td>\n",
       "      <td>13.00</td>\n",
       "      <td>13.18</td>\n",
       "      <td>14.90</td>\n",
       "      <td>950.441205</td>\n",
       "    </tr>\n",
       "    <tr>\n",
       "      <th>15314</th>\n",
       "      <td>ETH</td>\n",
       "      <td>2016-05-20 19:00:00</td>\n",
       "      <td>14.82</td>\n",
       "      <td>13.71</td>\n",
       "      <td>14.82</td>\n",
       "      <td>14.17</td>\n",
       "      <td>254.166617</td>\n",
       "    </tr>\n",
       "    <tr>\n",
       "      <th>15313</th>\n",
       "      <td>ETH</td>\n",
       "      <td>2016-05-23 19:00:00</td>\n",
       "      <td>13.91</td>\n",
       "      <td>13.61</td>\n",
       "      <td>13.86</td>\n",
       "      <td>13.61</td>\n",
       "      <td>180.786712</td>\n",
       "    </tr>\n",
       "    <tr>\n",
       "      <th>15312</th>\n",
       "      <td>ETH</td>\n",
       "      <td>2016-05-24 19:00:00</td>\n",
       "      <td>13.74</td>\n",
       "      <td>12.00</td>\n",
       "      <td>13.68</td>\n",
       "      <td>12.77</td>\n",
       "      <td>2753.239298</td>\n",
       "    </tr>\n",
       "  </tbody>\n",
       "</table>\n",
       "</div>"
      ]
     },
     "metadata": {},
     "execution_count": 10
    }
   ],
   "metadata": {}
  },
  {
   "cell_type": "code",
   "execution_count": 18,
   "source": [
    "df.to_csv('/Volumes/develop/projects/crypto-analysis/output/cbpro_data.csv', index=False)"
   ],
   "outputs": [],
   "metadata": {}
  }
 ],
 "metadata": {
  "orig_nbformat": 4,
  "language_info": {
   "name": "python",
   "version": "3.9.6",
   "mimetype": "text/x-python",
   "codemirror_mode": {
    "name": "ipython",
    "version": 3
   },
   "pygments_lexer": "ipython3",
   "nbconvert_exporter": "python",
   "file_extension": ".py"
  },
  "kernelspec": {
   "name": "python3",
   "display_name": "Python 3.9.6 64-bit"
  },
  "interpreter": {
   "hash": "b0fa6594d8f4cbf19f97940f81e996739fb7646882a419484c72d19e05852a7e"
  }
 },
 "nbformat": 4,
 "nbformat_minor": 2
}