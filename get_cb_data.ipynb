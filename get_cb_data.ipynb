{
 "cells": [
  {
   "cell_type": "code",
   "execution_count": 1,
   "source": [
    "import pandas as pd\n",
    "import cbpro\n",
    "from datetime import datetime, timedelta\n",
    "\n",
    "public_client = cbpro.PublicClient()"
   ],
   "outputs": [],
   "metadata": {}
  },
  {
   "cell_type": "code",
   "execution_count": 12,
   "source": [
    "currencies = public_client.get_currencies()\n",
    "currencies[0]\n",
    "\n",
    "currency_ids = []\n",
    "\n",
    "for currency in currencies:\n",
    "    currency_ids.append(currency['id'])\n",
    "\n",
    "currency_ids[:10]"
   ],
   "outputs": [
    {
     "output_type": "execute_result",
     "data": {
      "text/plain": [
       "['ALGO', 'DASH', 'OXT', 'ATOM', 'KNC', 'MIR', 'REP', 'ICP', 'CGLD', 'COMP']"
      ]
     },
     "metadata": {},
     "execution_count": 12
    }
   ],
   "metadata": {}
  },
  {
   "cell_type": "code",
   "execution_count": 16,
   "source": [
    "# Get current prices and save into a dictionary\n",
    "\n",
    "price_data = {}\n",
    "\n",
    "for c in currency_ids:\n",
    "    price = public_client.get_product_ticker(product_id=f\"LOOM-USD\")\n",
    "\n",
    "    price_data[c] = price\n",
    "\n",
    "price_data['ETH']"
   ],
   "outputs": [
    {
     "output_type": "execute_result",
     "data": {
      "text/plain": [
       "{'trade_id': 146393785,\n",
       " 'price': '3300.08',\n",
       " 'size': '0.0020877',\n",
       " 'time': '2021-08-15T22:55:04.18967Z',\n",
       " 'bid': '3300.08',\n",
       " 'ask': '3300.09',\n",
       " 'volume': '149749.73265754'}"
      ]
     },
     "metadata": {},
     "execution_count": 16
    }
   ],
   "metadata": {}
  },
  {
   "cell_type": "code",
   "execution_count": 47,
   "source": [
    "start_date = '2021-08-08'\n",
    "end_date = '2021-08-15'\n",
    "granularity = 86400 #Daily\n",
    "\n",
    "public_client.get_product_historic_rates(\n",
    "        \"SHIB-USD\", \n",
    "        start=start_date, \n",
    "        end=end_date, \n",
    "        granularity=granularity\n",
    "    )"
   ],
   "outputs": [
    {
     "output_type": "execute_result",
     "data": {
      "text/plain": [
       "{'message': 'NotFound'}"
      ]
     },
     "metadata": {},
     "execution_count": 47
    }
   ],
   "metadata": {}
  },
  {
   "cell_type": "code",
   "execution_count": 15,
   "source": [
    "price_data['ETH']"
   ],
   "outputs": [
    {
     "output_type": "execute_result",
     "data": {
      "text/plain": [
       "{'trade_id': 146393075,\n",
       " 'price': '3302.85',\n",
       " 'size': '0.01145047',\n",
       " 'time': '2021-08-15T22:53:13.651285Z',\n",
       " 'bid': '3302.84',\n",
       " 'ask': '3302.85',\n",
       " 'volume': '149446.88745776'}"
      ]
     },
     "metadata": {},
     "execution_count": 15
    }
   ],
   "metadata": {}
  },
  {
   "cell_type": "code",
   "execution_count": 13,
   "source": [
    "currencies[0]\n"
   ],
   "outputs": [
    {
     "output_type": "execute_result",
     "data": {
      "text/plain": [
       "{'id': 'ALGO',\n",
       " 'name': 'Algorand',\n",
       " 'min_size': '1',\n",
       " 'status': 'online',\n",
       " 'message': '',\n",
       " 'max_precision': '0.000001',\n",
       " 'convertible_to': [],\n",
       " 'details': {'type': 'crypto',\n",
       "  'symbol': 'A',\n",
       "  'network_confirmations': 1,\n",
       "  'sort_order': 93,\n",
       "  'crypto_address_link': 'https://algoexplorer.io/address/{{address}}',\n",
       "  'crypto_transaction_link': 'https://algoexplorer.io/tx/{{txId}}',\n",
       "  'push_payment_methods': ['crypto'],\n",
       "  'group_types': [],\n",
       "  'display_name': '',\n",
       "  'processing_time_seconds': 5,\n",
       "  'min_withdrawal_amount': 0.1,\n",
       "  'max_withdrawal_amount': 700000}}"
      ]
     },
     "metadata": {},
     "execution_count": 13
    }
   ],
   "metadata": {}
  },
  {
   "cell_type": "code",
   "execution_count": 64,
   "source": [
    "# Get historical data\n",
    "\n",
    "# Containers\n",
    "historical_data = {}\n",
    "symbol = []\n",
    "time = []\n",
    "low = []\n",
    "high = []\n",
    "opn = []\n",
    "close = []\n",
    "volume = []\n",
    "\n",
    "# Parameters\n",
    "start_date = '2021-08-08'\n",
    "end_date = '2021-08-15'\n",
    "time_delta = 300\n",
    "granularity = 86400 #Daily\n",
    "\n",
    "# For first data pull want to get maximum number of days (300 per API)\n",
    "start_date = datetime.strptime(end_date, '%Y-%m-%d')\n",
    "start_date = start_date - timedelta(days=time_delta)\n",
    "start_date = str(start_date.year)+'-'+str(start_date.month)+'-'+str(start_date.day)\n",
    "\n",
    "for c in currency_ids:\n",
    "    historic_rates = public_client.get_product_historic_rates(\n",
    "        f\"{c}-USD\", \n",
    "        start=start_date, \n",
    "        end=end_date, \n",
    "        granularity=granularity\n",
    "    )\n",
    "    if type(historic_rates) is not dict: # end if no data available\n",
    "        # break\n",
    "    # else:\n",
    "        try:\n",
    "            for day in historic_rates:\n",
    "                symbol.append(c)\n",
    "                time.append((datetime.fromtimestamp(day[0]) + timedelta(days=1)).strftime('%Y-%m-%d')) #%H:%M:%S\n",
    "                low.append(day[1])\n",
    "                high.append(day[2])\n",
    "                opn.append(day[3])\n",
    "                close.append(day[4])\n",
    "                volume.append(day[5])\n",
    "        except Exception as e:\n",
    "            print(c)\n",
    "            print(day[0])\n",
    "            print(e)\n",
    "\n",
    "\n",
    "# Create DataFrame\n",
    "data = {\n",
    "    'Symbol':symbol,\n",
    "    'Date':time,\n",
    "    'High':high,\n",
    "    'Low':low,\n",
    "    'Open':opn,\n",
    "    'Close':close,\n",
    "    'Volume':volume\n",
    "}\n",
    "df = pd.DataFrame(data)"
   ],
   "outputs": [],
   "metadata": {}
  },
  {
   "cell_type": "code",
   "execution_count": 65,
   "source": [
    "df['Symbol'].value_counts()\n",
    "df[df['Symbol'] == 'ETH']"
   ],
   "outputs": [
    {
     "output_type": "execute_result",
     "data": {
      "text/plain": [
       "     Symbol        Date     High      Low     Open    Close         Volume\n",
       "6749    ETH  2021-08-15  3323.54  3112.96  3266.52  3310.93  162311.479275\n",
       "6750    ETH  2021-08-14  3333.00  3206.96  3324.51  3266.52  118892.509069\n",
       "6751    ETH  2021-08-13  3330.00  3034.52  3047.21  3324.51  190905.352074\n",
       "6752    ETH  2021-08-12  3239.69  2980.00  3162.16  3047.21  243214.901488\n",
       "6753    ETH  2021-08-11  3275.00  3122.22  3142.18  3162.61  194586.917864\n",
       "...     ...         ...      ...      ...      ...      ...            ...\n",
       "7044    ETH  2020-10-24   417.00   407.40   409.55   412.58   68349.199078\n",
       "7045    ETH  2020-10-23   419.48   401.51   414.64   409.52  124844.520581\n",
       "7046    ETH  2020-10-22   421.47   391.33   391.36   414.70  182333.508395\n",
       "7047    ETH  2020-10-21   402.62   368.06   368.81   391.53  249849.807006\n",
       "7048    ETH  2020-10-20   380.90   363.01   379.53   368.81   84940.269823\n",
       "\n",
       "[300 rows x 7 columns]"
      ],
      "text/html": [
       "<div>\n",
       "<style scoped>\n",
       "    .dataframe tbody tr th:only-of-type {\n",
       "        vertical-align: middle;\n",
       "    }\n",
       "\n",
       "    .dataframe tbody tr th {\n",
       "        vertical-align: top;\n",
       "    }\n",
       "\n",
       "    .dataframe thead th {\n",
       "        text-align: right;\n",
       "    }\n",
       "</style>\n",
       "<table border=\"1\" class=\"dataframe\">\n",
       "  <thead>\n",
       "    <tr style=\"text-align: right;\">\n",
       "      <th></th>\n",
       "      <th>Symbol</th>\n",
       "      <th>Date</th>\n",
       "      <th>High</th>\n",
       "      <th>Low</th>\n",
       "      <th>Open</th>\n",
       "      <th>Close</th>\n",
       "      <th>Volume</th>\n",
       "    </tr>\n",
       "  </thead>\n",
       "  <tbody>\n",
       "    <tr>\n",
       "      <th>6749</th>\n",
       "      <td>ETH</td>\n",
       "      <td>2021-08-15</td>\n",
       "      <td>3323.54</td>\n",
       "      <td>3112.96</td>\n",
       "      <td>3266.52</td>\n",
       "      <td>3310.93</td>\n",
       "      <td>162311.479275</td>\n",
       "    </tr>\n",
       "    <tr>\n",
       "      <th>6750</th>\n",
       "      <td>ETH</td>\n",
       "      <td>2021-08-14</td>\n",
       "      <td>3333.00</td>\n",
       "      <td>3206.96</td>\n",
       "      <td>3324.51</td>\n",
       "      <td>3266.52</td>\n",
       "      <td>118892.509069</td>\n",
       "    </tr>\n",
       "    <tr>\n",
       "      <th>6751</th>\n",
       "      <td>ETH</td>\n",
       "      <td>2021-08-13</td>\n",
       "      <td>3330.00</td>\n",
       "      <td>3034.52</td>\n",
       "      <td>3047.21</td>\n",
       "      <td>3324.51</td>\n",
       "      <td>190905.352074</td>\n",
       "    </tr>\n",
       "    <tr>\n",
       "      <th>6752</th>\n",
       "      <td>ETH</td>\n",
       "      <td>2021-08-12</td>\n",
       "      <td>3239.69</td>\n",
       "      <td>2980.00</td>\n",
       "      <td>3162.16</td>\n",
       "      <td>3047.21</td>\n",
       "      <td>243214.901488</td>\n",
       "    </tr>\n",
       "    <tr>\n",
       "      <th>6753</th>\n",
       "      <td>ETH</td>\n",
       "      <td>2021-08-11</td>\n",
       "      <td>3275.00</td>\n",
       "      <td>3122.22</td>\n",
       "      <td>3142.18</td>\n",
       "      <td>3162.61</td>\n",
       "      <td>194586.917864</td>\n",
       "    </tr>\n",
       "    <tr>\n",
       "      <th>...</th>\n",
       "      <td>...</td>\n",
       "      <td>...</td>\n",
       "      <td>...</td>\n",
       "      <td>...</td>\n",
       "      <td>...</td>\n",
       "      <td>...</td>\n",
       "      <td>...</td>\n",
       "    </tr>\n",
       "    <tr>\n",
       "      <th>7044</th>\n",
       "      <td>ETH</td>\n",
       "      <td>2020-10-24</td>\n",
       "      <td>417.00</td>\n",
       "      <td>407.40</td>\n",
       "      <td>409.55</td>\n",
       "      <td>412.58</td>\n",
       "      <td>68349.199078</td>\n",
       "    </tr>\n",
       "    <tr>\n",
       "      <th>7045</th>\n",
       "      <td>ETH</td>\n",
       "      <td>2020-10-23</td>\n",
       "      <td>419.48</td>\n",
       "      <td>401.51</td>\n",
       "      <td>414.64</td>\n",
       "      <td>409.52</td>\n",
       "      <td>124844.520581</td>\n",
       "    </tr>\n",
       "    <tr>\n",
       "      <th>7046</th>\n",
       "      <td>ETH</td>\n",
       "      <td>2020-10-22</td>\n",
       "      <td>421.47</td>\n",
       "      <td>391.33</td>\n",
       "      <td>391.36</td>\n",
       "      <td>414.70</td>\n",
       "      <td>182333.508395</td>\n",
       "    </tr>\n",
       "    <tr>\n",
       "      <th>7047</th>\n",
       "      <td>ETH</td>\n",
       "      <td>2020-10-21</td>\n",
       "      <td>402.62</td>\n",
       "      <td>368.06</td>\n",
       "      <td>368.81</td>\n",
       "      <td>391.53</td>\n",
       "      <td>249849.807006</td>\n",
       "    </tr>\n",
       "    <tr>\n",
       "      <th>7048</th>\n",
       "      <td>ETH</td>\n",
       "      <td>2020-10-20</td>\n",
       "      <td>380.90</td>\n",
       "      <td>363.01</td>\n",
       "      <td>379.53</td>\n",
       "      <td>368.81</td>\n",
       "      <td>84940.269823</td>\n",
       "    </tr>\n",
       "  </tbody>\n",
       "</table>\n",
       "<p>300 rows × 7 columns</p>\n",
       "</div>"
      ]
     },
     "metadata": {},
     "execution_count": 65
    }
   ],
   "metadata": {}
  },
  {
   "cell_type": "code",
   "execution_count": null,
   "source": [],
   "outputs": [],
   "metadata": {}
  }
 ],
 "metadata": {
  "orig_nbformat": 4,
  "language_info": {
   "name": "python",
   "version": "3.9.6",
   "mimetype": "text/x-python",
   "codemirror_mode": {
    "name": "ipython",
    "version": 3
   },
   "pygments_lexer": "ipython3",
   "nbconvert_exporter": "python",
   "file_extension": ".py"
  },
  "kernelspec": {
   "name": "python3",
   "display_name": "Python 3.9.6 64-bit"
  },
  "interpreter": {
   "hash": "b0fa6594d8f4cbf19f97940f81e996739fb7646882a419484c72d19e05852a7e"
  }
 },
 "nbformat": 4,
 "nbformat_minor": 2
}